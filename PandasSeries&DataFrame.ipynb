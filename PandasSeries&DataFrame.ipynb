{
 "cells": [
  {
   "cell_type": "markdown",
   "metadata": {},
   "source": [
    "1D arry is called as series\n",
    "2 D array or multiple cols and rows are dataframe\n"
   ]
  },
  {
   "cell_type": "markdown",
   "metadata": {},
   "source": [
    "Pandas Series\n",
    "A Pandas Series is like a column in a table\n",
    "It is a one dimensional array holding data of anytype"
   ]
  },
  {
   "cell_type": "code",
   "execution_count": 24,
   "metadata": {},
   "outputs": [],
   "source": [
    "import pandas as pd"
   ]
  },
  {
   "cell_type": "code",
   "execution_count": 25,
   "metadata": {},
   "outputs": [
    {
     "name": "stdout",
     "output_type": "stream",
     "text": [
      "0    1\n",
      "1    7\n",
      "2    2\n",
      "3    8\n",
      "4    5\n",
      "dtype: int64\n"
     ]
    }
   ],
   "source": [
    "#Series Method\n",
    "series = pd.Series([1,7,2,8,5])\n",
    "print(series)"
   ]
  },
  {
   "cell_type": "code",
   "execution_count": 26,
   "metadata": {},
   "outputs": [],
   "source": [
    "data=pd.DataFrame({\n",
    "    'Name':['Ankit','Ashvani','Kanhaiya','Ayush','Vishakha'],\n",
    "    'Age':[23,25,23,23,21],\n",
    "    'University':['BHU','MNU','AKTU','BHU','AKTU']\n",
    "})\n"
   ]
  },
  {
   "cell_type": "code",
   "execution_count": 27,
   "metadata": {},
   "outputs": [
    {
     "name": "stdout",
     "output_type": "stream",
     "text": [
      "       Name  Age University\n",
      "0     Ankit   23        BHU\n",
      "1   Ashvani   25        MNU\n",
      "2  Kanhaiya   23       AKTU\n",
      "3     Ayush   23        BHU\n",
      "4  Vishakha   21       AKTU\n"
     ]
    }
   ],
   "source": [
    "print(data)"
   ]
  },
  {
   "cell_type": "code",
   "execution_count": 28,
   "metadata": {},
   "outputs": [],
   "source": [
    "data.to_csv('students.csv') # also include the index like  0,1,2,3\n",
    "data.to_csv('students.csv',index=False) # prevent the DataFrame's row labels from being included in csv file"
   ]
  },
  {
   "cell_type": "code",
   "execution_count": 29,
   "metadata": {},
   "outputs": [],
   "source": [
    "# To read a csv file \n",
    "# copy the path of the file\n",
    "# make new variable \n",
    "# use pandas or pd.read_csv(path of file)\n",
    "# convert the bckslash\\  to that ///"
   ]
  },
  {
   "cell_type": "code",
   "execution_count": 30,
   "metadata": {},
   "outputs": [
    {
     "name": "stdout",
     "output_type": "stream",
     "text": [
      "       Name  Age University\n",
      "0     Ankit   23        BHU\n",
      "1   Ashvani   25        MNU\n",
      "2  Kanhaiya   23       AKTU\n",
      "3     Ayush   23        BHU\n",
      "4  Vishakha   21       AKTU\n"
     ]
    }
   ],
   "source": [
    "readfileData=pd.read_csv('D:/Data Analytics/UnifiedMentor/students.csv')\n",
    "print(readfileData)"
   ]
  },
  {
   "cell_type": "markdown",
   "metadata": {},
   "source": [
    "Upload Datasets\n",
    "Same as it is\n",
    "Copy path of file upload the file in folder \n",
    "do same \n",
    "var=pd.read_filetype('path')\n",
    "convert \\ to //"
   ]
  },
  {
   "cell_type": "code",
   "execution_count": 31,
   "metadata": {},
   "outputs": [
    {
     "name": "stdout",
     "output_type": "stream",
     "text": [
      "    ID     Name  Age Course  Score\n",
      "0  101    Alice   20     CS     85\n",
      "1  102      Bob   22     IT     78\n",
      "2  103  Charlie   21    ECE     92\n",
      "3  104    David   23     ME     88\n",
      "4  105     Emma   20     CS     76\n"
     ]
    }
   ],
   "source": [
    "newfile = pd.read_excel(r'D:\\Data Analytics\\UnifiedMentor\\sample_students.xlsx')\n",
    "# print(newfile.head)  prints name of the columns\n",
    "print(newfile)"
   ]
  },
  {
   "cell_type": "markdown",
   "metadata": {},
   "source": [
    "Groupby function \n",
    "first read the file and entries\n",
    "store file in var\n",
    "read the column names for groupby method\n",
    "use var.groupby('columname','col..'...)[[first col]].count()"
   ]
  },
  {
   "cell_type": "code",
   "execution_count": 32,
   "metadata": {},
   "outputs": [
    {
     "name": "stdout",
     "output_type": "stream",
     "text": [
      "      ID        Name  Age Course  Score  Attendance Grade\n",
      "0   1001   Student_1   18    ECE     68          80     D\n",
      "1   1002   Student_2   24     ME     80          74     B\n",
      "2   1003   Student_3   21     ME     79          86     A\n",
      "3   1004   Student_4   20     EE     55          60     C\n",
      "4   1005   Student_5   22     ME     59          82     C\n",
      "5   1006   Student_6   21     EE     84          97     D\n",
      "6   1007   Student_7   19     EE     75          77     B\n",
      "7   1008   Student_8   24     CS     62          81     B\n",
      "8   1009   Student_9   21     IT     78          97     A\n",
      "9   1010  Student_10   20    ECE     89          64     B\n",
      "10  1011  Student_11   21     IT     95          63     D\n",
      "11  1012  Student_12   22     CS     56          99     D\n",
      "12  1013  Student_13   22     CS     62          93     A\n",
      "13  1014  Student_14   24     IT     64          65     A\n",
      "14  1015  Student_15   24     IT     79          63     D\n",
      "15  1016  Student_16   19     EE     52          66     C\n",
      "16  1017  Student_17   21    ECE     65          86     A\n",
      "17  1018  Student_18   22    ECE     51          64     D\n",
      "18  1019  Student_19   20    ECE     93          95     B\n",
      "19  1020  Student_20   22     CS     94          82     D\n",
      "20  1021  Student_21   18     ME     90          90     D\n",
      "21  1022  Student_22   24     ME     82          95     A\n",
      "22  1023  Student_23   24     CS     70          80     B\n",
      "23  1024  Student_24   24    ECE     75          93     C\n",
      "24  1025  Student_25   23     ME     65          74     C\n",
      "25  1026  Student_26   21     CS     73          85     D\n",
      "26  1027  Student_27   24     EE     78          62     D\n",
      "27  1028  Student_28   23     IT     62          73     D\n",
      "28  1029  Student_29   22     CS     76          67     B\n",
      "29  1030  Student_30   20     CS     99          98     A\n",
      "30  1031  Student_31   21     IT     73          83     D\n",
      "31  1032  Student_32   19     ME     58          79     B\n",
      "32  1033  Student_33   18     CS     76          86     D\n",
      "33  1034  Student_34   23     ME     90          65     B\n",
      "34  1035  Student_35   19     CS     60          71     C\n",
      "35  1036  Student_36   19     CS     93          73     B\n",
      "36  1037  Student_37   24    ECE     78          71     C\n",
      "37  1038  Student_38   18     EE     54          71     D\n",
      "38  1039  Student_39   23     IT     55          88     B\n",
      "39  1040  Student_40   23     EE     73          87     A\n",
      "40  1041  Student_41   22     CS     98          87     C\n",
      "41  1042  Student_42   22     ME     77          76     A\n",
      "42  1043  Student_43   24    ECE     67          87     A\n",
      "43  1044  Student_44   23     IT     76          86     B\n",
      "44  1045  Student_45   24    ECE     62          71     D\n",
      "45  1046  Student_46   21    ECE     76          68     A\n",
      "46  1047  Student_47   18    ECE     51          88     B\n",
      "47  1048  Student_48   24     EE     87          82     C\n",
      "48  1049  Student_49   21     CS     58          95     C\n",
      "49  1050  Student_50   19     CS     55          83     A\n"
     ]
    }
   ],
   "source": [
    "sample=pd.read_csv(r'D:\\Data Analytics\\UnifiedMentor\\Sample.csv')\n",
    "print(sample)\n",
    "# print(sample.head)\n"
   ]
  },
  {
   "cell_type": "code",
   "execution_count": 33,
   "metadata": {},
   "outputs": [
    {
     "name": "stdout",
     "output_type": "stream",
     "text": [
      "     ID       Name  Age Course  Score  Attendance Grade\n",
      "0  1001  Student_1   18    ECE     68          80     D\n",
      "1  1002  Student_2   24     ME     80          74     B\n",
      "2  1003  Student_3   21     ME     79          86     A\n",
      "3  1004  Student_4   20     EE     55          60     C\n",
      "4  1005  Student_5   22     ME     59          82     C\n"
     ]
    }
   ],
   "source": [
    "print(sample.head())"
   ]
  },
  {
   "cell_type": "code",
   "execution_count": 34,
   "metadata": {},
   "outputs": [
    {
     "name": "stdout",
     "output_type": "stream",
     "text": [
      "Course\n",
      "CS     73.714286\n",
      "ECE    70.454545\n",
      "EE     69.750000\n",
      "IT     72.750000\n",
      "ME     75.555556\n",
      "Name: Score, dtype: float64\n",
      "        ID  Name  Age  Score  Attendance  Grade\n",
      "Course                                         \n",
      "CS      14    14   14     14          14     14\n",
      "ECE     11    11   11     11          11     11\n",
      "EE       8     8    8      8           8      8\n",
      "IT       8     8    8      8           8      8\n",
      "ME       9     9    9      9           9      9\n"
     ]
    }
   ],
   "source": [
    "result=sample.groupby(\"Course\")['Score'].mean()\n",
    "print(result)\n",
    "result=sample.groupby(\"Course\").count()\n",
    "print(result)"
   ]
  },
  {
   "cell_type": "markdown",
   "metadata": {},
   "source": [
    "Pandas Date range\n",
    "📅 Pandas date_range() – Generate Date Sequences\n",
    "The pd.date_range() function in Pandas is used to create a range of dates with a specified frequency."
   ]
  },
  {
   "cell_type": "code",
   "execution_count": 41,
   "metadata": {},
   "outputs": [
    {
     "name": "stdout",
     "output_type": "stream",
     "text": [
      "DatetimeIndex(['2022-03-31', '2022-04-30', '2022-05-31', '2022-06-30',\n",
      "               '2022-07-31', '2022-08-31', '2022-09-30', '2022-10-31',\n",
      "               '2022-11-30', '2022-12-31', '2023-01-31', '2023-02-28',\n",
      "               '2023-03-31', '2023-04-30', '2023-05-31', '2023-06-30',\n",
      "               '2023-07-31', '2023-08-31', '2023-09-30', '2023-10-31',\n",
      "               '2023-11-30', '2023-12-31', '2024-01-31', '2024-02-29',\n",
      "               '2024-03-31', '2024-04-30', '2024-05-31', '2024-06-30',\n",
      "               '2024-07-31', '2024-08-31', '2024-09-30', '2024-10-31',\n",
      "               '2024-11-30', '2024-12-31', '2025-01-31', '2025-02-28'],\n",
      "              dtype='datetime64[ns]', freq='ME')\n"
     ]
    },
    {
     "name": "stderr",
     "output_type": "stream",
     "text": [
      "C:\\Users\\user\\AppData\\Local\\Temp\\ipykernel_1504\\1204933733.py:13: FutureWarning: 'M' is deprecated and will be removed in a future version, please use 'ME' instead.\n",
      "  dates=pd.date_range(\"2022-03-03\",\"2025-03-23\",freq='M')\n"
     ]
    }
   ],
   "source": [
    "# generate daily sequence\n",
    "# dates=pd.date_range(\"2025-03-03\",\"2025-03-23\")\n",
    "# print(dates)\n",
    "# generate periods 5 freq\n",
    "# dates=pd.date_range(\"2025-03-03\",periods=5,freq='D')\n",
    "# print(dates)\n",
    "# dates=pd.date_range(\"2025-03-03\",periods=10,freq='W-MON')\n",
    "# print(dates)\n",
    "# dates=pd.date_range(\"2025-03-03\",periods=10,freq='B')\n",
    "# print(dates)\n",
    "# dates=pd.date_range(\"2025-03-03\",periods=10,freq='B')\n",
    "# print(dates)\n",
    "dates=pd.date_range(\"2022-03-03\",\"2025-03-23\",freq='M')\n",
    "print(dates)\n",
    "\n"
   ]
  }
 ],
 "metadata": {
  "kernelspec": {
   "display_name": "Python 3",
   "language": "python",
   "name": "python3"
  },
  "language_info": {
   "codemirror_mode": {
    "name": "ipython",
    "version": 3
   },
   "file_extension": ".py",
   "mimetype": "text/x-python",
   "name": "python",
   "nbconvert_exporter": "python",
   "pygments_lexer": "ipython3",
   "version": "3.10.11"
  }
 },
 "nbformat": 4,
 "nbformat_minor": 2
}
