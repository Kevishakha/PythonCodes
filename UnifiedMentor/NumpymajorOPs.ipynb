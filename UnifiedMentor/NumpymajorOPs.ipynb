{
 "cells": [
  {
   "cell_type": "markdown",
   "metadata": {},
   "source": [
    "Append, Insert, Delete  Operations\n",
    "np.append([array 1D, 2D array],axis=0 or 1)\n",
    "axis =0 adding new rows\n",
    "axis=1 adding new columns\n",
    "[0,1,2] [[3,4,5],[6,7,8]]  append two array in row format\n",
    "0 1 2\n",
    "3 4 5\n",
    "6 7 8\n",
    "\n",
    "given array 0 0\n",
    "            1 1\n",
    "            2 2\n",
    "np.insert([1],[[3],[4][5]],axis =1)  #add columns on index 1 in each row\n",
    " it will add new columns to add the numbers\n",
    " 0 3 0\n",
    " 1 4 1\n",
    " 2 5 2\n",
    "\n",
    "0 1 2\n",
    "4 5 6\n",
    "7 8 9\n",
    " np.delete(1,0)  index is 1 ,  0 means row\n",
    "output =\n",
    "0 1 2\n",
    "7 8 9\n",
    "\n",
    "\n",
    "\n"
   ]
  },
  {
   "cell_type": "code",
   "execution_count": 18,
   "metadata": {},
   "outputs": [
    {
     "name": "stdout",
     "output_type": "stream",
     "text": [
      "[ 1 23  3  2  3  4  2  3  4  7  8  9]\n",
      "[[ 1 23  3]\n",
      " [ 2  3  4]\n",
      " [ 2  3  4]\n",
      " [ 7  8  9]]\n",
      "[[ 1 23  3  7]\n",
      " [ 2  3  4  8]\n",
      " [ 2  3  4  9]]\n"
     ]
    }
   ],
   "source": [
    "import numpy as np\n",
    "a=np.array([[1,23,3],[2,3,4],[2,3,4]])\n",
    "#append method\n",
    "np.append(a,[7,8,9])\n",
    "print(np.append(a,[7,8,9]))\n",
    "print(np.append(a,[[7,8,9]],axis=0))\n",
    "print(np.append(a,[[7],[8],[9]],axis=1))"
   ]
  },
  {
   "cell_type": "code",
   "execution_count": 19,
   "metadata": {},
   "outputs": [
    {
     "name": "stdout",
     "output_type": "stream",
     "text": [
      "[ 1  2  3 11 12  4  5  6]\n",
      "[[ 1  2]\n",
      " [ 3  4]\n",
      " [11 12]\n",
      " [ 5  6]]\n",
      "[[ 1 11  2]\n",
      " [ 3 12  4]\n",
      " [ 5 13  6]]\n"
     ]
    }
   ],
   "source": [
    "a=np.array([[1,2],\n",
    "            [3,4],\n",
    "            [5,6]])\n",
    "print(np.insert(a,3,[11,12]))\n",
    "print(np.insert(a,2,[11,12],axis=0))\n",
    "print(np.insert(a,1,[11,12,13],axis=1))"
   ]
  },
  {
   "cell_type": "code",
   "execution_count": null,
   "metadata": {},
   "outputs": [
    {
     "name": "stdout",
     "output_type": "stream",
     "text": [
      "[1 2 3 4 3 4 6 5 6 7 8]\n",
      "[[1 2 3 4]\n",
      " [3 4 5 6]]\n",
      "[[1 2 4]\n",
      " [3 4 6]\n",
      " [5 6 8]]\n"
     ]
    }
   ],
   "source": [
    "a=np.array([[1,2,3,4],\n",
    "           [3,4,5,6],\n",
    "           [5,6,7,8]])\n",
    " #6 is a index\n",
    "print(np.delete(a,6)) # delete index 6=5 and flatten the array\n",
    "print(np.delete(a,2,axis=0))  # delete the row from index =2\n",
    "print(np.delete(a,2,axis=1))  # delete the column on index 2"
   ]
  },
  {
   "cell_type": "code",
   "execution_count": null,
   "metadata": {},
   "outputs": [
    {
     "data": {
      "text/plain": [
       "2"
      ]
     },
     "execution_count": 27,
     "metadata": {},
     "output_type": "execute_result"
    }
   ],
   "source": [
    "np.ndim(a)\n"
   ]
  },
  {
   "cell_type": "markdown",
   "metadata": {},
   "source": [
    "Hstack vs Vstack\n",
    "Hstack is used to join two arrays horizontally\n",
    "Vstack is used to join two arrays vertically"
   ]
  },
  {
   "cell_type": "code",
   "execution_count": null,
   "metadata": {},
   "outputs": [
    {
     "name": "stdout",
     "output_type": "stream",
     "text": [
      "[1 2 3] [4 5 6]\n",
      "1 1\n",
      "[1 2 3 4 5 6] 1\n",
      "[[1 2 3]\n",
      " [4 5 6]] 2\n"
     ]
    }
   ],
   "source": [
    "a=np.array([1,2,3])\n",
    "b=np.array([4,5,6])\n",
    "print(a,b)\n",
    "print(np.ndim(a),np.ndim(b))\n",
    "result=np.hstack((a,b))\n",
    "print(result,np.ndim(result))  # 1D array\n",
    "vresult=np.vstack((a,b))\n",
    "print(vresult,np.ndim(vresult)) # become 2D array"
   ]
  },
  {
   "cell_type": "markdown",
   "metadata": {},
   "source": [
    "Numpy Concatenation\n",
    "\n",
    "It is used for joining two or more arrays of the same shape along a specified axis\n",
    "Axis=0, Adding new rows\n",
    "Axis=1, Adding new columns"
   ]
  },
  {
   "cell_type": "code",
   "execution_count": 33,
   "metadata": {},
   "outputs": [
    {
     "name": "stdout",
     "output_type": "stream",
     "text": [
      "[[1 2 3]\n",
      " [4 5 6]\n",
      " [1 2 3]\n",
      " [4 5 6]]\n",
      "[[1 2 3 1 2 3]\n",
      " [4 5 6 4 5 6]]\n"
     ]
    }
   ],
   "source": [
    "arr1=np.array([[1,2,3],[4,5,6]])\n",
    "arr2=np.array([[1,2,3],[4,5,6]])\n",
    "arr3=np.array([[3],[9]])\n",
    "arr4=np.array([[6,9]])\n",
    "new =np.concatenate((arr1,arr2),axis=0)\n",
    "print(new)\n",
    "now=np.concatenate((arr1,arr2),axis=1)\n",
    "print(now)\n"
   ]
  }
 ],
 "metadata": {
  "kernelspec": {
   "display_name": "Python 3",
   "language": "python",
   "name": "python3"
  },
  "language_info": {
   "codemirror_mode": {
    "name": "ipython",
    "version": 3
   },
   "file_extension": ".py",
   "mimetype": "text/x-python",
   "name": "python",
   "nbconvert_exporter": "python",
   "pygments_lexer": "ipython3",
   "version": "3.10.11"
  }
 },
 "nbformat": 4,
 "nbformat_minor": 2
}
