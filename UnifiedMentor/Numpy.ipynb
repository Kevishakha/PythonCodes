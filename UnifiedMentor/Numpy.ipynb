{
 "cells": [
  {
   "cell_type": "code",
   "execution_count": 2,
   "metadata": {},
   "outputs": [],
   "source": [
    "import numpy as np"
   ]
  },
  {
   "cell_type": "markdown",
   "metadata": {},
   "source": [
    "Numpy Array Dimension\n",
    "1D, 2D, 3D Array"
   ]
  },
  {
   "cell_type": "code",
   "execution_count": 3,
   "metadata": {},
   "outputs": [
    {
     "name": "stdout",
     "output_type": "stream",
     "text": [
      "5\n",
      "0\n"
     ]
    }
   ],
   "source": [
    "A=np.array(5)    #scalar array\n",
    "print(A)\n",
    "print(np.ndim(A))    # Dimension Method"
   ]
  },
  {
   "cell_type": "code",
   "execution_count": null,
   "metadata": {},
   "outputs": [
    {
     "name": "stdout",
     "output_type": "stream",
     "text": [
      "[1 2 3 4 5]\n",
      "1\n",
      "[[1 2 3 4 5]\n",
      " [1 2 3 4 5]]\n",
      "2\n",
      "[[[ 1  2  3  4  4]\n",
      "  [ 1  2  3  5  4]]\n",
      "\n",
      " [[ 1 23  4  4  4]\n",
      "  [ 1  2  3  4  5]]]\n",
      "3\n"
     ]
    }
   ],
   "source": [
    "One=np.array([1,2,3,4,5])\n",
    "Two=np.array([[1,2,3,4,5],[1,2,3,4,5]])\n",
    "Three=np.array([[[1,2,3,4,4] ,[1,2,3,5,4]] ,[[1,2,3,4,4,4],[1,2,3,4,5]]])\n",
    "print(One)\n",
    "print(np.ndim(One))\n",
    "print(Two)\n",
    "print(np.ndim(Two))\n",
    "print(Three)\n",
    "print(np.ndim(Three))"
   ]
  },
  {
   "cell_type": "markdown",
   "metadata": {},
   "source": [
    "List Vs Numpy Array"
   ]
  },
  {
   "cell_type": "code",
   "execution_count": 8,
   "metadata": {},
   "outputs": [],
   "source": [
    "list=['sa',1,34,44]    # List different datatype\n",
    "arr=np.array([1,2,3,4,5])  # Array Similar datatype\n",
    "#all element type will be string    Type conversion if we add string in numpy array"
   ]
  },
  {
   "cell_type": "code",
   "execution_count": null,
   "metadata": {},
   "outputs": [],
   "source": [
    "#Mathematical Operations \n",
    "# numpy arra / 5\n",
    "# List /  5            through error"
   ]
  },
  {
   "cell_type": "markdown",
   "metadata": {},
   "source": [
    "More Advantages of Numpy Array over list\n",
    "Array consumes less memory\n",
    "Array are faster than lists"
   ]
  },
  {
   "cell_type": "markdown",
   "metadata": {},
   "source": [
    "Array Reshaping\n",
    "data 1D array\n",
    "data.reshape(2 row, 3 col)  2D array  ->  3 row 2 col\n",
    "\n",
    "Array Indexing\n",
    "data\n",
    "data[0,1]   row 0 FIrst 1 col\n",
    "data[1:3]   row from 1 to 3 all cols\n",
    "data[0:2,0]  first 2 rows from 0   to of 0 colums"
   ]
  },
  {
   "cell_type": "code",
   "execution_count": null,
   "metadata": {},
   "outputs": [
    {
     "name": "stdout",
     "output_type": "stream",
     "text": [
      "[ 1  2  3  4  5  6  6  7  7  8  9 10]\n",
      "[[ 1  2  3]\n",
      " [ 4  5  6]\n",
      " [ 6  7  7]\n",
      " [ 8  9 10]]\n",
      "[[ 1  2  3  4  5  6]\n",
      " [ 6  7  7  8  9 10]]\n"
     ]
    }
   ],
   "source": [
    "arr=np.array([1,2,3,4,5,6,6,7,7,8,9,10])  # 1 D Array\n",
    "# 1D array to 2 D array\n",
    "newarr=arr.reshape(4,3)\n",
    "print(arr)\n",
    "print(newarr)\n",
    "harr=arr.reshape(2,6)\n",
    "print(harr)\n",
    "# 3D array\n",
    "darr=arr.reshape(2,3,2)\n",
    "print(darr)"
   ]
  },
  {
   "cell_type": "markdown",
   "metadata": {},
   "source": [
    "Array Indexing\n",
    "Array Indexing is the same as accessing an array element\n",
    "You can access an array element by referring to its inex number"
   ]
  },
  {
   "cell_type": "code",
   "execution_count": 28,
   "metadata": {},
   "outputs": [
    {
     "name": "stdout",
     "output_type": "stream",
     "text": [
      "3\n",
      "6\n",
      "11\n",
      "7\n",
      "[ 8  9 10]\n",
      "[[1 2 3]\n",
      " [4 5 6]]\n",
      "[[ 1  2  3]\n",
      " [ 4  5  6]\n",
      " [ 6  7  7]\n",
      " [ 8  9 10]]\n",
      "[[[ 1  2]\n",
      "  [ 3  4]\n",
      "  [ 5  6]]\n",
      "\n",
      " [[ 6  7]\n",
      "  [ 7  8]\n",
      "  [ 9 10]]]\n",
      "4\n",
      "7\n"
     ]
    }
   ],
   "source": [
    "arr=np.array([1,2,3,4,5,6,6,7,7,8,9,10])\n",
    "print(arr[2])\n",
    "print(arr[5])\n",
    "print(arr[4]+arr[5])\n",
    "narr=arr.reshape(4,3)\n",
    "print(narr[2,2])\n",
    "print(narr[3])\n",
    "print(narr[0:2])\n",
    "print(narr[0:4,0:3])\n",
    "\n",
    "#3 D array\n",
    "darr=arr.reshape(2,3,2)\n",
    "print(darr)\n",
    "print(darr[0,1,1])\n",
    "print(darr[1,1,0])"
   ]
  }
 ],
 "metadata": {
  "kernelspec": {
   "display_name": "Python 3",
   "language": "python",
   "name": "python3"
  },
  "language_info": {
   "codemirror_mode": {
    "name": "ipython",
    "version": 3
   },
   "file_extension": ".py",
   "mimetype": "text/x-python",
   "name": "python",
   "nbconvert_exporter": "python",
   "pygments_lexer": "ipython3",
   "version": "3.10.11"
  }
 },
 "nbformat": 4,
 "nbformat_minor": 2
}
