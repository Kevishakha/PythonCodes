{
 "cells": [
  {
   "cell_type": "markdown",
   "metadata": {},
   "source": [
    "<!-- Array Slicing\n",
    "Slicing in python means taking elements from one given index to another given index\n",
    "We pass slice instead of index like this: [start:end]\n",
    "We can also define the step,like this:[start:end:step] -->\n",
    "<!-- a\n",
    "a[1,2]\n",
    "a[1,:] whole 1 row\n",
    "a[:,2] whole 2nd col\n",
    "a[:,1:3] two columns 1,2\n",
    "a[-2:,-2:] in negative case indexing starts from -1 , in this -1 or 1st column is not in -2 or second to all cols select also in cols\n",
    "a[::2,1::2] rows is 0 and 2  cols are 1 and 3  -->\n"
   ]
  },
  {
   "cell_type": "code",
   "execution_count": null,
   "metadata": {},
   "outputs": [
    {
     "name": "stdout",
     "output_type": "stream",
     "text": [
      "[32 24 56  7]\n",
      "[ 7 89  9  9]\n",
      "[ 1 32 24 56]\n"
     ]
    }
   ],
   "source": [
    "import numpy as np\n",
    "a1=np.array([1,32,24,56,7,89,9,9])  # slicing in 1 D array\n",
    "print(a1[1:5]) #[start:end] from 1st index 32 to 5-1=4th index\n",
    "print(a1[4:])  # ll from 4ht index to end\n",
    "print(a1[:4])"
   ]
  },
  {
   "cell_type": "code",
   "execution_count": null,
   "metadata": {},
   "outputs": [
    {
     "name": "stdout",
     "output_type": "stream",
     "text": [
      "[7 8 9]\n",
      "[3 8]\n",
      "[[2 3 4]\n",
      " [7 8 9]]\n"
     ]
    }
   ],
   "source": [
    "a2=np.array([[1,2,3,4,5],[6,7,8,9,10]])#2D array\n",
    "print(a2[1,1:4])  #[row:column]\n",
    "print(a2[0:2,2])\n",
    "print(a2[0:2,1:4])"
   ]
  },
  {
   "cell_type": "code",
   "execution_count": null,
   "metadata": {},
   "outputs": [
    {
     "name": "stdout",
     "output_type": "stream",
     "text": [
      "[[[13 14]\n",
      "  [16 17]]\n",
      "\n",
      " [[22 23]\n",
      "  [25 26]]]\n",
      "(3, 3, 3)\n",
      "[17 26 35]\n",
      "[[11 14 17]\n",
      " [20 23 26]\n",
      " [29 32 35]]\n"
     ]
    }
   ],
   "source": [
    "a3=np.array([[[10,11,12],[13,14,15],[16,17,18]],\n",
    "             [[19,20,21],[22,23,24],[25,26,27]],\n",
    "             [[28,29,30],[31,32,33],[34,35,36]]]) # 3 D array Slicing\n",
    "print(a3[:2,1:,:2])\n",
    "print(a3.shape)\n",
    "\n",
    "print(a3[:3,2,1])\n",
    "print(a3[:3,:3,1])"
   ]
  },
  {
   "cell_type": "markdown",
   "metadata": {},
   "source": [
    "View vs Copy\n",
    "Copy is a new array, and the View is just a view of the original array.\n",
    "Any changes made to the copy will not affect original array.\n",
    "Any changes made to the view will affect the original array."
   ]
  },
  {
   "cell_type": "code",
   "execution_count": null,
   "metadata": {},
   "outputs": [
    {
     "name": "stdout",
     "output_type": "stream",
     "text": [
      "[1 2 3 4 5]\n",
      "[1 2 3 4 5]\n",
      "[4 2 3 4 5]\n",
      "[1 2 3 4 5]\n"
     ]
    }
   ],
   "source": [
    "arr=np.array([1,2,3,4,5])\n",
    "# copy method\n",
    "print(arr)\n",
    "copy = arr.copy()\n",
    "print(copy)\n",
    "copy[0]=4\n",
    "print(copy)\n",
    "print(arr)"
   ]
  },
  {
   "cell_type": "code",
   "execution_count": null,
   "metadata": {},
   "outputs": [
    {
     "name": "stdout",
     "output_type": "stream",
     "text": [
      "[1 2 4 5 6 7 8 9]\n",
      "[43  2  4  5  6  7  8  9]\n",
      "[43  2  4  5  6  7  8  9]\n"
     ]
    }
   ],
   "source": [
    "# View Method\n",
    "\n",
    "import numpy as np\n",
    "arra=np.array([1,2,4,5,6,7,8,9])\n",
    "print(arra)\n",
    "view=arra.view()\n",
    "view[0]=43\n",
    "\n",
    "print(view)\n",
    "print(arra)  # change also"
   ]
  }
 ],
 "metadata": {
  "kernelspec": {
   "display_name": "Python 3",
   "language": "python",
   "name": "python3"
  },
  "language_info": {
   "codemirror_mode": {
    "name": "ipython",
    "version": 3
   },
   "file_extension": ".py",
   "mimetype": "text/x-python",
   "name": "python",
   "nbconvert_exporter": "python",
   "pygments_lexer": "ipython3",
   "version": "3.10.11"
  }
 },
 "nbformat": 4,
 "nbformat_minor": 2
}
